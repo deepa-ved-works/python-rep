{
 "cells": [
  {
   "cell_type": "code",
   "execution_count": 1,
   "id": "c698ce30",
   "metadata": {},
   "outputs": [
    {
     "name": "stdout",
     "output_type": "stream",
     "text": [
      "hello, world\n"
     ]
    }
   ],
   "source": [
    "##1 simple string\n",
    "print(\"hello, world\")"
   ]
  },
  {
   "cell_type": "code",
   "execution_count": 2,
   "id": "6c8cdac0",
   "metadata": {},
   "outputs": [
    {
     "ename": "SyntaxError",
     "evalue": "unexpected EOF while parsing (55619299.py, line 1)",
     "output_type": "error",
     "traceback": [
      "\u001b[0;36m  File \u001b[0;32m\"/tmp/ipykernel_15267/55619299.py\"\u001b[0;36m, line \u001b[0;32m1\u001b[0m\n\u001b[0;31m    print(\"hello, world\"\u001b[0m\n\u001b[0m                        ^\u001b[0m\n\u001b[0;31mSyntaxError\u001b[0m\u001b[0;31m:\u001b[0m unexpected EOF while parsing\n"
     ]
    }
   ],
   "source": [
    "print(\"hello, world\""
   ]
  },
  {
   "cell_type": "code",
   "execution_count": 3,
   "id": "f1a87bf5",
   "metadata": {},
   "outputs": [
    {
     "name": "stdout",
     "output_type": "stream",
     "text": [
      "What's your name?\n",
      "deepa\n",
      "hello, world\n"
     ]
    }
   ],
   "source": [
    "print(\"What's your name?\")\n",
    "input()\n",
    "print(\"hello, world\")"
   ]
  },
  {
   "cell_type": "code",
   "execution_count": 4,
   "id": "b4412a7c",
   "metadata": {},
   "outputs": [
    {
     "name": "stdout",
     "output_type": "stream",
     "text": [
      "What's your name?deepa\n",
      "hello, world\n"
     ]
    }
   ],
   "source": [
    "input(\"What's your name?\")\n",
    "print(\"hello, world\")"
   ]
  },
  {
   "cell_type": "code",
   "execution_count": 5,
   "id": "2d405283",
   "metadata": {},
   "outputs": [
    {
     "name": "stdout",
     "output_type": "stream",
     "text": [
      "What's your name?deepa\n",
      "hello, Deepa\n"
     ]
    }
   ],
   "source": [
    "input(\"What's your name?\")\n",
    "print(\"hello, Deepa\")"
   ]
  },
  {
   "cell_type": "code",
   "execution_count": 6,
   "id": "cf2a4974",
   "metadata": {},
   "outputs": [
    {
     "name": "stdout",
     "output_type": "stream",
     "text": [
      "What's your name?vedha\n",
      "hello, Deepa\n"
     ]
    }
   ],
   "source": [
    "input(\"What's your name?\")\n",
    "print(\"hello, Deepa\")"
   ]
  },
  {
   "cell_type": "code",
   "execution_count": 7,
   "id": "4378c241",
   "metadata": {},
   "outputs": [
    {
     "name": "stdout",
     "output_type": "stream",
     "text": [
      "What's your name?Deepa\n",
      "hello, name\n"
     ]
    }
   ],
   "source": [
    "name = input(\"What's your name?\")\n",
    "print(\"hello, name\")"
   ]
  },
  {
   "cell_type": "code",
   "execution_count": 8,
   "id": "c739d59a",
   "metadata": {},
   "outputs": [
    {
     "name": "stdout",
     "output_type": "stream",
     "text": [
      "What's your name?Deepa\n",
      "hello, \n",
      "Deepa\n"
     ]
    }
   ],
   "source": [
    "name = input(\"What's your name?\")\n",
    "print(\"hello, \")\n",
    "print(name)"
   ]
  },
  {
   "cell_type": "code",
   "execution_count": 10,
   "id": "559839a6",
   "metadata": {},
   "outputs": [
    {
     "name": "stdout",
     "output_type": "stream",
     "text": [
      "What's your name?Deepa\n",
      "hello, \n",
      "Deepa\n"
     ]
    }
   ],
   "source": [
    "#single line comments\n",
    "\"\"\" \n",
    "  Multi\n",
    "  Line\n",
    "  Comment\n",
    "\"\"\"\n",
    "#Ask user for their name\n",
    "name = input(\"What's your name?\")\n",
    "# Say hello to user\n",
    "print(\"hello, \")\n",
    "print(name)"
   ]
  },
  {
   "cell_type": "code",
   "execution_count": 11,
   "id": "0b200207",
   "metadata": {},
   "outputs": [
    {
     "name": "stdout",
     "output_type": "stream",
     "text": [
      "What's your name?Deepa\n",
      "hello, Deepa\n"
     ]
    }
   ],
   "source": [
    "# Improve a code\n",
    "#Ask user for their name\n",
    "name = input(\"What's your name?\")\n",
    "# Say hello to user\n",
    "print(\"hello, \" + name)"
   ]
  },
  {
   "cell_type": "code",
   "execution_count": 12,
   "id": "87bce056",
   "metadata": {},
   "outputs": [
    {
     "name": "stdout",
     "output_type": "stream",
     "text": [
      "What's your name?Deepa\n",
      "hello, Deepa\n"
     ]
    }
   ],
   "source": [
    "# Improve a code\n",
    "#Ask user for their name\n",
    "name = input(\"What's your name?\")\n",
    "# Say hello to user\n",
    "print(\"hello,\", name)"
   ]
  },
  {
   "cell_type": "code",
   "execution_count": 13,
   "id": "ec8233df",
   "metadata": {},
   "outputs": [
    {
     "name": "stdout",
     "output_type": "stream",
     "text": [
      "What's your name?Vedha\n",
      "hello, Vedha\n"
     ]
    }
   ],
   "source": [
    "#Ask user for their name\n",
    "name = input(\"What's your name?\")\n",
    "# Say hello to user\n",
    "print(\"hello, \", end=\"\")\n",
    "print(name)"
   ]
  },
  {
   "cell_type": "code",
   "execution_count": 16,
   "id": "d1b6d097",
   "metadata": {},
   "outputs": [
    {
     "name": "stdout",
     "output_type": "stream",
     "text": [
      "What's your name?Vedha\n",
      "hello, Vedha\n"
     ]
    }
   ],
   "source": [
    "#Ask user for their name\n",
    "name = input(\"What's your name?\")\n",
    "# Say hello to user\n",
    "print(\"hello,\", name, sep=' ')"
   ]
  },
  {
   "cell_type": "code",
   "execution_count": 17,
   "id": "56ee66d3",
   "metadata": {},
   "outputs": [
    {
     "name": "stdout",
     "output_type": "stream",
     "text": [
      "hello, \"friend\"\n"
     ]
    }
   ],
   "source": [
    "print('hello, \"friend\"')"
   ]
  },
  {
   "cell_type": "code",
   "execution_count": 18,
   "id": "8b56ebc6",
   "metadata": {},
   "outputs": [
    {
     "name": "stdout",
     "output_type": "stream",
     "text": [
      "hello, \"friend\"\n"
     ]
    }
   ],
   "source": [
    "#Escape\n",
    "print(\"hello, \\\"friend\\\"\")"
   ]
  },
  {
   "cell_type": "code",
   "execution_count": 19,
   "id": "ea2497c9",
   "metadata": {},
   "outputs": [
    {
     "name": "stdout",
     "output_type": "stream",
     "text": [
      "What's your name?Vedha\n",
      "hello, Vedha\n"
     ]
    }
   ],
   "source": [
    "#new method\n",
    "#Ask user for their name\n",
    "name = input(\"What's your name?\")\n",
    "# Say hello to user\n",
    "print(f\"hello, {name}\")"
   ]
  },
  {
   "cell_type": "code",
   "execution_count": 20,
   "id": "a21138f5",
   "metadata": {},
   "outputs": [
    {
     "name": "stdout",
     "output_type": "stream",
     "text": [
      "What's your name?    vedha   \n",
      "hello,     vedha   \n"
     ]
    }
   ],
   "source": [
    "#new method\n",
    "#Ask user for their name\n",
    "name = input(\"What's your name?\")\n",
    "# Say hello to user\n",
    "print(f\"hello, {name}\")"
   ]
  },
  {
   "cell_type": "code",
   "execution_count": 21,
   "id": "6cfb43fb",
   "metadata": {},
   "outputs": [
    {
     "name": "stdout",
     "output_type": "stream",
     "text": [
      "What's your name?    vedha  \n",
      "hello, Vedha\n"
     ]
    }
   ],
   "source": [
    "#Ask user for their name\n",
    "name = input(\"What's your name?\")\n",
    "#Remove whitespaces from str\n",
    "name = name.strip()\n",
    "#Capitalize user's name\n",
    "name = name.capitalize()\n",
    "# Say hello to user\n",
    "print(f\"hello, {name}\")"
   ]
  },
  {
   "cell_type": "code",
   "execution_count": 22,
   "id": "0f776a1c",
   "metadata": {},
   "outputs": [
    {
     "name": "stdout",
     "output_type": "stream",
     "text": [
      "What's your name?   deepa vedha\n",
      "hello, Deepa vedha\n"
     ]
    }
   ],
   "source": [
    "#Ask user for their name\n",
    "name = input(\"What's your name?\")\n",
    "#Remove whitespaces from str\n",
    "name = name.strip()\n",
    "#Capitalize user's name\n",
    "name = name.capitalize()\n",
    "# Say hello to user\n",
    "print(f\"hello, {name}\")"
   ]
  },
  {
   "cell_type": "code",
   "execution_count": 23,
   "id": "6260bdea",
   "metadata": {},
   "outputs": [
    {
     "name": "stdout",
     "output_type": "stream",
     "text": [
      "What's your name?    deepa vedha\n",
      "hello, Deepa Vedha\n"
     ]
    }
   ],
   "source": [
    "#new method\n",
    "#Ask user for their name\n",
    "name = input(\"What's your name?\")\n",
    "#Remove whitespaces from str\n",
    "name = name.strip()\n",
    "#Capitalize user's name\n",
    "#name = name.capitalize()\n",
    "name = name.title()\n",
    "# Say hello to user\n",
    "print(f\"hello, {name}\")"
   ]
  },
  {
   "cell_type": "code",
   "execution_count": 24,
   "id": "c7792f54",
   "metadata": {},
   "outputs": [
    {
     "name": "stdout",
     "output_type": "stream",
     "text": [
      "What's your name?   deepa vedha\n",
      "hello, Deepa Vedha\n"
     ]
    }
   ],
   "source": [
    "#Ask user for their name\n",
    "name = input(\"What's your name?\")\n",
    "#Remove whitespaces from str and Capitalize user's name\n",
    "name = name.strip().title()\n",
    "# Say hello to user\n",
    "print(f\"hello, {name}\")"
   ]
  },
  {
   "cell_type": "code",
   "execution_count": 25,
   "id": "4d7b210a",
   "metadata": {},
   "outputs": [
    {
     "name": "stdout",
     "output_type": "stream",
     "text": [
      "What's your name?   deepa vedha\n",
      "hello, Deepa Vedha\n"
     ]
    }
   ],
   "source": [
    "#1 simple string Final Result\n",
    "#----------------------------\n",
    "#Ask user for their name\n",
    "name = input(\"What's your name?\").strip().title()\n",
    "# Say hello to user\n",
    "print(f\"hello, {name}\")"
   ]
  },
  {
   "cell_type": "code",
   "execution_count": 26,
   "id": "e7862488",
   "metadata": {},
   "outputs": [
    {
     "name": "stdout",
     "output_type": "stream",
     "text": [
      "What's your name?   vedha deepa\n",
      "hello, Vedha\n"
     ]
    }
   ],
   "source": [
    "#Ask user for their name\n",
    "name = input(\"What's your name?\").strip().title()\n",
    "# split user's name into first, last name\n",
    "first, last = name.split()\n",
    "# Say hello to user\n",
    "print(f\"hello, {first}\")"
   ]
  },
  {
   "cell_type": "code",
   "execution_count": 30,
   "id": "42a9dd51",
   "metadata": {},
   "outputs": [
    {
     "name": "stdout",
     "output_type": "stream",
     "text": [
      "What's x?3\n",
      "What's y?3\n",
      "6\n"
     ]
    }
   ],
   "source": [
    "# 2 Calculator\n",
    "#--------------\n",
    "x = input(\"What's x?\")\n",
    "y = input(\"What's y?\")\n",
    "z = int(x) + int(y)\n",
    "print(z)"
   ]
  },
  {
   "cell_type": "code",
   "execution_count": 35,
   "id": "18563e35",
   "metadata": {},
   "outputs": [
    {
     "name": "stdout",
     "output_type": "stream",
     "text": [
      "What's x?33\n",
      "What's y?33\n",
      "66\n"
     ]
    }
   ],
   "source": [
    "# 2 Calculator \n",
    "#-------------\n",
    "print(int(input(\"What's x?\")) + int(input(\"What's y?\")))"
   ]
  },
  {
   "cell_type": "code",
   "execution_count": 31,
   "id": "de685952",
   "metadata": {},
   "outputs": [
    {
     "name": "stdout",
     "output_type": "stream",
     "text": [
      "What's x?3\n",
      "What's y?3\n",
      "6\n"
     ]
    }
   ],
   "source": [
    "# 2 Calculator Final int\n",
    "#-----------------------\n",
    "x = int(input(\"What's x?\"))\n",
    "y = int(input(\"What's y?\"))\n",
    "print(x + y)"
   ]
  },
  {
   "cell_type": "code",
   "execution_count": 36,
   "id": "5865a4e6",
   "metadata": {},
   "outputs": [
    {
     "name": "stdout",
     "output_type": "stream",
     "text": [
      "What's x?3.3\n",
      "What's y?3.3\n",
      "6.6\n"
     ]
    }
   ],
   "source": [
    "# 2 Calculator Final float\n",
    "#-------------------------\n",
    "x = float(input(\"What's x?\"))\n",
    "y = float(input(\"What's y?\"))\n",
    "print(x + y)"
   ]
  },
  {
   "cell_type": "code",
   "execution_count": 39,
   "id": "9fb8f798",
   "metadata": {},
   "outputs": [
    {
     "name": "stdout",
     "output_type": "stream",
     "text": [
      "What's x?999\n",
      "What's y?1\n",
      "1000\n"
     ]
    }
   ],
   "source": [
    "# 2 Calculator round\n",
    "#-------------------\n",
    "x = float(input(\"What's x?\"))\n",
    "y = float(input(\"What's y?\"))\n",
    "z = round(x + y)\n",
    "print(z)"
   ]
  },
  {
   "cell_type": "code",
   "execution_count": 38,
   "id": "af424327",
   "metadata": {},
   "outputs": [
    {
     "name": "stdout",
     "output_type": "stream",
     "text": [
      "What's x?999\n",
      "What's y?1\n",
      "1,000\n"
     ]
    }
   ],
   "source": [
    "# 2 Calculator Final round\n",
    "#-------------------------\n",
    "x = float(input(\"What's x?\"))\n",
    "y = float(input(\"What's y?\"))\n",
    "z = round(x + y)\n",
    "print(f\"{z:,}\")"
   ]
  },
  {
   "cell_type": "code",
   "execution_count": 40,
   "id": "9f63ba9b",
   "metadata": {},
   "outputs": [
    {
     "name": "stdout",
     "output_type": "stream",
     "text": [
      "What's x?2\n",
      "What's y?3\n",
      "0.6666666666666666\n"
     ]
    }
   ],
   "source": [
    "# 2 Calculator division\n",
    "#----------------------\n",
    "x = float(input(\"What's x?\"))\n",
    "y = float(input(\"What's y?\"))\n",
    "z = x / y\n",
    "print(z)"
   ]
  },
  {
   "cell_type": "code",
   "execution_count": 41,
   "id": "ed3eeec7",
   "metadata": {},
   "outputs": [
    {
     "name": "stdout",
     "output_type": "stream",
     "text": [
      "What's x?2\n",
      "What's y?3\n",
      "0.67\n"
     ]
    }
   ],
   "source": [
    "# 2 Calculator division final\n",
    "#----------------------------\n",
    "x = float(input(\"What's x?\"))\n",
    "y = float(input(\"What's y?\"))\n",
    "z = round(x / y, 2)\n",
    "print(z)"
   ]
  },
  {
   "cell_type": "code",
   "execution_count": 42,
   "id": "0722bdd4",
   "metadata": {},
   "outputs": [
    {
     "name": "stdout",
     "output_type": "stream",
     "text": [
      "What's x?2\n",
      "What's y?3\n",
      "0.67\n"
     ]
    }
   ],
   "source": [
    "# 2 Calculator division final\n",
    "#----------------------------\n",
    "x = float(input(\"What's x?\"))\n",
    "y = float(input(\"What's y?\"))\n",
    "z = x / y\n",
    "print(f\"{z:.2f}\")"
   ]
  },
  {
   "cell_type": "code",
   "execution_count": 43,
   "id": "69a1c960",
   "metadata": {},
   "outputs": [
    {
     "name": "stdout",
     "output_type": "stream",
     "text": [
      "What's your name?Vedha\n",
      "hello, Vedha\n"
     ]
    }
   ],
   "source": [
    "#Functions\n",
    "#---------\n",
    "def hello(to):\n",
    "    print(\"hello,\", to)\n",
    "\n",
    "name = input(\"What's your name?\")\n",
    "hello(name)"
   ]
  },
  {
   "cell_type": "code",
   "execution_count": 44,
   "id": "ae5db611",
   "metadata": {},
   "outputs": [
    {
     "name": "stdout",
     "output_type": "stream",
     "text": [
      "hello, world\n",
      "What's your name?Deepa\n",
      "hello, Deepa\n"
     ]
    }
   ],
   "source": [
    "#Functions\n",
    "#---------\n",
    "def hello(to=\"world\"):\n",
    "    print(\"hello,\", to)\n",
    "\n",
    "hello()\n",
    "name = input(\"What's your name?\")\n",
    "hello(name)"
   ]
  },
  {
   "cell_type": "code",
   "execution_count": 45,
   "id": "1822530b",
   "metadata": {},
   "outputs": [
    {
     "name": "stdout",
     "output_type": "stream",
     "text": [
      "What's your name?vedha\n",
      "hello, vedha\n"
     ]
    }
   ],
   "source": [
    "#Functions with argument\n",
    "#------------------------\n",
    "def main():\n",
    "    name = input(\"What's your name?\")\n",
    "    hello(name)\n",
    "\n",
    "def hello(to=\"world\"):\n",
    "    print(\"hello,\", to)\n",
    "\n",
    "main()"
   ]
  },
  {
   "cell_type": "code",
   "execution_count": 46,
   "id": "0fdd43f9",
   "metadata": {},
   "outputs": [
    {
     "name": "stdout",
     "output_type": "stream",
     "text": [
      "What's x?6\n",
      "X squared is 36\n"
     ]
    }
   ],
   "source": [
    "#function with return value\n",
    "#-------------------------\n",
    "def main():\n",
    "    x = int(input(\"What's x?\"))\n",
    "    print(\"X squared is\", square(x))\n",
    "    \n",
    "def square(n):\n",
    "    return n * n\n",
    "\n",
    "main()"
   ]
  },
  {
   "cell_type": "code",
   "execution_count": 47,
   "id": "4799672c",
   "metadata": {},
   "outputs": [
    {
     "name": "stdout",
     "output_type": "stream",
     "text": [
      "What's x?6\n",
      "X squared is 36\n"
     ]
    }
   ],
   "source": [
    "#function with return value\n",
    "#-------------------------\n",
    "def main():\n",
    "    x = int(input(\"What's x?\"))\n",
    "    print(\"X squared is\", square(x))\n",
    "    \n",
    "def square(n):\n",
    "    return n ** 2\n",
    "\n",
    "main()"
   ]
  },
  {
   "cell_type": "code",
   "execution_count": 48,
   "id": "7bc05948",
   "metadata": {},
   "outputs": [
    {
     "name": "stdout",
     "output_type": "stream",
     "text": [
      "What's x?6\n",
      "X squared is 36\n"
     ]
    }
   ],
   "source": [
    "#function with return value\n",
    "#-------------------------\n",
    "def main():\n",
    "    x = int(input(\"What's x?\"))\n",
    "    print(\"X squared is\", square(x))\n",
    "    \n",
    "def square(n):\n",
    "    return pow(n, 2)\n",
    "\n",
    "main()"
   ]
  },
  {
   "cell_type": "code",
   "execution_count": 49,
   "id": "52f96aa1",
   "metadata": {},
   "outputs": [
    {
     "name": "stdout",
     "output_type": "stream",
     "text": [
      "What's x?1\n",
      "What's y?2\n",
      "x is less than y\n"
     ]
    }
   ],
   "source": [
    "#Conditional if (>, >=, <, <=, ==, !=)\n",
    "#-----------------------------------\n",
    "# Comparesion operator\n",
    "x = int(input(\"What's x?\"))\n",
    "y = int(input(\"What's y?\"))\n",
    "\n",
    "if x < y:\n",
    "    print(\"x is less than y\")\n",
    "if x > y:\n",
    "    print(\"x is Greater than y\")\n",
    "if x == y:\n",
    "    print(\"x is equal to y\")\n"
   ]
  },
  {
   "cell_type": "code",
   "execution_count": 50,
   "id": "5c1fae39",
   "metadata": {},
   "outputs": [
    {
     "name": "stdout",
     "output_type": "stream",
     "text": [
      "What's x?1\n",
      "What's y?2\n",
      "x is less than y\n"
     ]
    }
   ],
   "source": [
    "# Comparesion operator (elif)\n",
    "x = int(input(\"What's x?\"))\n",
    "y = int(input(\"What's y?\"))\n",
    "\n",
    "if x < y:\n",
    "    print(\"x is less than y\")\n",
    "elif x > y:\n",
    "    print(\"x is Greater than y\")\n",
    "elif x == y:\n",
    "    print(\"x is equal to y\")"
   ]
  },
  {
   "cell_type": "code",
   "execution_count": 51,
   "id": "2d812bc2",
   "metadata": {},
   "outputs": [
    {
     "name": "stdout",
     "output_type": "stream",
     "text": [
      "What's x?2\n",
      "What's y?2\n",
      "x is equal to y\n"
     ]
    }
   ],
   "source": [
    "# Comparesion operator (elif)\n",
    "x = int(input(\"What's x?\"))\n",
    "y = int(input(\"What's y?\"))\n",
    "\n",
    "if x < y:\n",
    "    print(\"x is less than y\")\n",
    "elif x > y:\n",
    "    print(\"x is Greater than y\")\n",
    "else:\n",
    "    print(\"x is equal to y\")"
   ]
  },
  {
   "cell_type": "code",
   "execution_count": 52,
   "id": "be5593a6",
   "metadata": {},
   "outputs": [
    {
     "name": "stdout",
     "output_type": "stream",
     "text": [
      "What's x?1\n",
      "What's y?2\n",
      "x is not equal to y\n"
     ]
    }
   ],
   "source": [
    "# Comparesion operator (elif)\n",
    "x = int(input(\"What's x?\"))\n",
    "y = int(input(\"What's y?\"))\n",
    "\n",
    "if x < y or x > y:\n",
    "    print(\"x is not equal to y\")\n",
    "else:\n",
    "    print(\"x is equal to y\")"
   ]
  },
  {
   "cell_type": "code",
   "execution_count": 53,
   "id": "950b429f",
   "metadata": {},
   "outputs": [
    {
     "name": "stdout",
     "output_type": "stream",
     "text": [
      "What's x?2\n",
      "What's y?1\n",
      "x is not equal to y\n"
     ]
    }
   ],
   "source": [
    "# Comparesion operator (elif)\n",
    "x = int(input(\"What's x?\"))\n",
    "y = int(input(\"What's y?\"))\n",
    "\n",
    "if x != y:\n",
    "    print(\"x is not equal to y\")\n",
    "else:\n",
    "    print(\"x is equal to y\")"
   ]
  },
  {
   "cell_type": "code",
   "execution_count": 54,
   "id": "16dc402c",
   "metadata": {},
   "outputs": [
    {
     "name": "stdout",
     "output_type": "stream",
     "text": [
      "What's x?2\n",
      "What's y?2\n",
      "x is equal to y\n"
     ]
    }
   ],
   "source": [
    "# Comparesion operator (elif)\n",
    "x = int(input(\"What's x?\"))\n",
    "y = int(input(\"What's y?\"))\n",
    "\n",
    "if x == y:\n",
    "    print(\"x is equal to y\")\n",
    "else:\n",
    "    print(\"x is not equal to y\")"
   ]
  },
  {
   "cell_type": "code",
   "execution_count": 55,
   "id": "04b9c63b",
   "metadata": {},
   "outputs": [
    {
     "name": "stdout",
     "output_type": "stream",
     "text": [
      "Score: 99\n",
      "Grade: A\n"
     ]
    }
   ],
   "source": [
    "# Grade\n",
    "#------\n",
    "score = int(input(\"Score: \"))\n",
    "\n",
    "if score >= 90 and score <=100:\n",
    "    print(\"Grade: A\")\n",
    "elif score >= 80 and score < 90:\n",
    "    print(\"Grade: B\")\n",
    "elif score >= 70 and score < 80:\n",
    "    print(\"Grade: C\")\n",
    "elif score >= 60 and score < 70:\n",
    "    print(\"Grade: D\")\n",
    "else:\n",
    "    print(\"Grade: F\")\n"
   ]
  },
  {
   "cell_type": "code",
   "execution_count": 56,
   "id": "032fa902",
   "metadata": {},
   "outputs": [
    {
     "name": "stdout",
     "output_type": "stream",
     "text": [
      "Score: 75\n",
      "Grade: C\n"
     ]
    }
   ],
   "source": [
    "# Grade\n",
    "#------\n",
    "score = int(input(\"Score: \"))\n",
    "\n",
    "if 90 <= score <=100:\n",
    "    print(\"Grade: A\")\n",
    "elif 80 <= score < 90:\n",
    "    print(\"Grade: B\")\n",
    "elif 70 <= score < 80:\n",
    "    print(\"Grade: C\")\n",
    "elif 60 <= score < 70:\n",
    "    print(\"Grade: D\")\n",
    "else:\n",
    "    print(\"Grade: F\")"
   ]
  },
  {
   "cell_type": "code",
   "execution_count": 57,
   "id": "41d51051",
   "metadata": {},
   "outputs": [
    {
     "name": "stdout",
     "output_type": "stream",
     "text": [
      "Score: 110\n",
      "Grade: A\n"
     ]
    }
   ],
   "source": [
    "# Grade\n",
    "#------\n",
    "score = int(input(\"Score: \"))\n",
    "\n",
    "if score >= 90:\n",
    "    print(\"Grade: A\")\n",
    "elif score >= 80:\n",
    "    print(\"Grade: B\")\n",
    "elif score >= 70:\n",
    "    print(\"Grade: C\")\n",
    "elif score >= 60:\n",
    "    print(\"Grade: D\")\n",
    "else:\n",
    "    print(\"Grade: F\")\n"
   ]
  },
  {
   "cell_type": "code",
   "execution_count": 60,
   "id": "e31df4f8",
   "metadata": {},
   "outputs": [
    {
     "name": "stdout",
     "output_type": "stream",
     "text": [
      "What's x?3\n",
      "Odd\n"
     ]
    }
   ],
   "source": [
    "#Parity(even or odd)\n",
    "#------------------\n",
    "x = int(input(\"What's x?\"))\n",
    "\n",
    "if(x % 2 == 0):\n",
    "    print(\"Even\")\n",
    "else:\n",
    "    print(\"Odd\")"
   ]
  },
  {
   "cell_type": "code",
   "execution_count": 63,
   "id": "4a169084",
   "metadata": {},
   "outputs": [
    {
     "name": "stdout",
     "output_type": "stream",
     "text": [
      "What's x?3\n",
      "Odd\n"
     ]
    }
   ],
   "source": [
    "#Parity(even or odd)\n",
    "#------------------\n",
    "def main():\n",
    "    x = int(input(\"What's x?\"))\n",
    "    if is_even(x):\n",
    "        print(\"Even\")\n",
    "    else:\n",
    "        print(\"Odd\")\n",
    "        \n",
    "def is_even(n):\n",
    "    if n % 2 == 0:\n",
    "        return True\n",
    "    else:\n",
    "        return False\n",
    "main()"
   ]
  },
  {
   "cell_type": "code",
   "execution_count": 66,
   "id": "ac792b40",
   "metadata": {},
   "outputs": [
    {
     "name": "stdout",
     "output_type": "stream",
     "text": [
      "What's x?4\n",
      "Even\n"
     ]
    }
   ],
   "source": [
    "#Parity(even or odd)\n",
    "#------------------\n",
    "def main():\n",
    "    x = int(input(\"What's x?\"))\n",
    "    if is_even(x):\n",
    "        print(\"Even\")\n",
    "    else:\n",
    "        print(\"Odd\")\n",
    "        \n",
    "def is_even(n):\n",
    "    return True if n % 2 == 0 else False\n",
    "\n",
    "main()"
   ]
  },
  {
   "cell_type": "code",
   "execution_count": 68,
   "id": "88b404b2",
   "metadata": {},
   "outputs": [
    {
     "name": "stdout",
     "output_type": "stream",
     "text": [
      "What's x?3\n",
      "Odd\n"
     ]
    }
   ],
   "source": [
    "#Parity(even or odd)\n",
    "#------------------\n",
    "def main():\n",
    "    x = int(input(\"What's x?\"))\n",
    "    if is_even(x):\n",
    "        print(\"Even\")\n",
    "    else:\n",
    "        print(\"Odd\")\n",
    "        \n",
    "def is_even(n):\n",
    "    return n % 2 == 0 \n",
    "\n",
    "main()"
   ]
  },
  {
   "cell_type": "code",
   "execution_count": 70,
   "id": "ac7c71ed",
   "metadata": {},
   "outputs": [
    {
     "name": "stdout",
     "output_type": "stream",
     "text": [
      "What's your name?Harry\n",
      "Gryffindor\n"
     ]
    }
   ],
   "source": [
    "# House\n",
    "name = input(\"What's your name?\")\n",
    "\n",
    "if name == \"Harry\":\n",
    "    print(\"Gryffindor\")\n",
    "elif name == \"Hermione\":\n",
    "    print(\"Gryffindor\")\n",
    "elif name == \"Ron\":\n",
    "    print(\"Gryffindor\")\n",
    "elif name == \"Draco\":\n",
    "    print(\"Slytherin\")\n",
    "else:\n",
    "    print(\"Who?\")"
   ]
  },
  {
   "cell_type": "code",
   "execution_count": 71,
   "id": "fc9bfa10",
   "metadata": {},
   "outputs": [
    {
     "name": "stdout",
     "output_type": "stream",
     "text": [
      "What's your name?Ron\n",
      "Gryffindor\n"
     ]
    }
   ],
   "source": [
    "# House\n",
    "name = input(\"What's your name?\")\n",
    "\n",
    "if name == \"Harry\" or name == \"Hermione\" or name == \"Ron\":\n",
    "    print(\"Gryffindor\")\n",
    "elif name == \"Draco\":\n",
    "    print(\"Slytherin\")\n",
    "else:\n",
    "    print(\"Who?\")"
   ]
  },
  {
   "cell_type": "code",
   "execution_count": 1,
   "id": "ebe5a1d4",
   "metadata": {},
   "outputs": [
    {
     "ename": "SyntaxError",
     "evalue": "invalid syntax (1140812098.py, line 4)",
     "output_type": "error",
     "traceback": [
      "\u001b[0;36m  File \u001b[0;32m\"/tmp/ipykernel_3469/1140812098.py\"\u001b[0;36m, line \u001b[0;32m4\u001b[0m\n\u001b[0;31m    match name:\u001b[0m\n\u001b[0m          ^\u001b[0m\n\u001b[0;31mSyntaxError\u001b[0m\u001b[0;31m:\u001b[0m invalid syntax\n"
     ]
    }
   ],
   "source": [
    "# House (Program correct work in 3.10)\n",
    "name = input(\"What's your name?\")\n",
    "\n",
    "match name:\n",
    "    case \"Harry\":\n",
    "        print(\"Gryffindor\")\n",
    "    case \"Hermione\":\n",
    "        print(\"Gryffindor\")\n",
    "    case \"Ron\":\n",
    "        print(\"Gryffindor\")\n",
    "    case \"Draco\":\n",
    "        print(\"Slytherin\")\n",
    "    case _:\n",
    "        print(\"Who?\")"
   ]
  },
  {
   "cell_type": "code",
   "execution_count": 2,
   "id": "ca27a196",
   "metadata": {},
   "outputs": [
    {
     "ename": "SyntaxError",
     "evalue": "invalid syntax (3871239271.py, line 4)",
     "output_type": "error",
     "traceback": [
      "\u001b[0;36m  File \u001b[0;32m\"/tmp/ipykernel_3469/3871239271.py\"\u001b[0;36m, line \u001b[0;32m4\u001b[0m\n\u001b[0;31m    match name:\u001b[0m\n\u001b[0m          ^\u001b[0m\n\u001b[0;31mSyntaxError\u001b[0m\u001b[0;31m:\u001b[0m invalid syntax\n"
     ]
    }
   ],
   "source": [
    "# House (Program correct work in 3.10)\n",
    "name = input(\"What's your name?\")\n",
    "\n",
    "match name:\n",
    "    case \"Harry\" | \"Hermione\" | \"Ron\":\n",
    "        print(\"Gryffindor\")\n",
    "    case \"Draco\":\n",
    "        print(\"Slytherin\")\n",
    "    case _:\n",
    "        print(\"Who?\") "
   ]
  },
  {
   "cell_type": "code",
   "execution_count": 3,
   "id": "f776d36e",
   "metadata": {},
   "outputs": [
    {
     "name": "stdout",
     "output_type": "stream",
     "text": [
      "meow\n",
      "meow\n",
      "meow\n"
     ]
    }
   ],
   "source": [
    "#Loop\n",
    "print(\"meow\")\n",
    "print(\"meow\")\n",
    "print(\"meow\")"
   ]
  },
  {
   "cell_type": "code",
   "execution_count": 4,
   "id": "6d18d0f7",
   "metadata": {},
   "outputs": [
    {
     "name": "stdout",
     "output_type": "stream",
     "text": [
      "meow\n",
      "meow\n",
      "meow\n"
     ]
    }
   ],
   "source": [
    "#Loop\n",
    "#Control + c for infinate loop\n",
    "i = 3\n",
    "while i != 0:\n",
    "    print(\"meow\")\n",
    "    i = i - 1"
   ]
  },
  {
   "cell_type": "code",
   "execution_count": 5,
   "id": "988e20b2",
   "metadata": {},
   "outputs": [
    {
     "name": "stdout",
     "output_type": "stream",
     "text": [
      "meow\n",
      "meow\n",
      "meow\n"
     ]
    }
   ],
   "source": [
    "#Loop\n",
    "#Control + c for infinate loop\n",
    "i = 0\n",
    "while i < 3:\n",
    "    print(\"meow\")\n",
    "    i += 1"
   ]
  },
  {
   "cell_type": "code",
   "execution_count": 6,
   "id": "6089aa2f",
   "metadata": {},
   "outputs": [
    {
     "name": "stdout",
     "output_type": "stream",
     "text": [
      "meow\n",
      "meow\n",
      "meow\n"
     ]
    }
   ],
   "source": [
    "#Loop\n",
    "for i in [0, 1, 2]:\n",
    "    print(\"meow\")\n"
   ]
  },
  {
   "cell_type": "code",
   "execution_count": 7,
   "id": "b4a2afbf",
   "metadata": {},
   "outputs": [
    {
     "name": "stdout",
     "output_type": "stream",
     "text": [
      "meow\n",
      "meow\n",
      "meow\n"
     ]
    }
   ],
   "source": [
    "#Loop\n",
    "for i in range(3):\n",
    "    print(\"meow\")"
   ]
  },
  {
   "cell_type": "code",
   "execution_count": 8,
   "id": "4aa0f86d",
   "metadata": {},
   "outputs": [
    {
     "name": "stdout",
     "output_type": "stream",
     "text": [
      "meow\n",
      "meow\n",
      "meow\n"
     ]
    }
   ],
   "source": [
    "#Loop\n",
    "for _ in range(3):\n",
    "    print(\"meow\")"
   ]
  },
  {
   "cell_type": "code",
   "execution_count": 10,
   "id": "72ba68d7",
   "metadata": {},
   "outputs": [
    {
     "name": "stdout",
     "output_type": "stream",
     "text": [
      "meow\n",
      "meow\n",
      "meow\n",
      "\n"
     ]
    }
   ],
   "source": [
    "#Loop\n",
    "print(\"meow\\n\" * 3)"
   ]
  },
  {
   "cell_type": "code",
   "execution_count": 17,
   "id": "c856c4be",
   "metadata": {},
   "outputs": [
    {
     "name": "stdout",
     "output_type": "stream",
     "text": [
      "meow\n",
      "meow\n",
      "meow\n"
     ]
    }
   ],
   "source": [
    "print(\"meow\\n\" * 3, end=\"\")"
   ]
  },
  {
   "cell_type": "code",
   "execution_count": 21,
   "id": "9d77f245",
   "metadata": {},
   "outputs": [
    {
     "name": "stdout",
     "output_type": "stream",
     "text": [
      "what's n?3\n",
      "meow\n",
      "meow\n",
      "meow\n"
     ]
    }
   ],
   "source": [
    "while True:\n",
    "    n = int(input(\"what's n?\"))\n",
    "    if n > 0:\n",
    "        break\n",
    "for _ in range(n):\n",
    "    print(\"meow\")\n"
   ]
  },
  {
   "cell_type": "code",
   "execution_count": 30,
   "id": "150a0312",
   "metadata": {},
   "outputs": [
    {
     "name": "stdout",
     "output_type": "stream",
     "text": [
      "what's n?2\n",
      "meow\n",
      "meow\n"
     ]
    }
   ],
   "source": [
    "def main():\n",
    "    number = get_number()\n",
    "    meow(number)\n",
    "    \n",
    "def get_number():     \n",
    "    while True:\n",
    "        n = int(input(\"what's n?\"))\n",
    "        if n > 0:\n",
    "            break\n",
    "    return n\n",
    "\n",
    "def meow(n):    \n",
    "    for _ in range(n):\n",
    "        print(\"meow\")\n",
    "main()"
   ]
  },
  {
   "cell_type": "code",
   "execution_count": 31,
   "id": "2615a703",
   "metadata": {},
   "outputs": [
    {
     "name": "stdout",
     "output_type": "stream",
     "text": [
      "Hermione\n",
      "Harry\n",
      "Ron\n"
     ]
    }
   ],
   "source": [
    "#List\n",
    "students = [\"Hermione\", \"Harry\", \"Ron\"]\n",
    "print(students[0])\n",
    "print(students[1])\n",
    "print(students[2])"
   ]
  },
  {
   "cell_type": "code",
   "execution_count": 32,
   "id": "3a92a1e1",
   "metadata": {},
   "outputs": [
    {
     "name": "stdout",
     "output_type": "stream",
     "text": [
      "Hermione\n",
      "Harry\n",
      "Ron\n"
     ]
    }
   ],
   "source": [
    "#List\n",
    "students = [\"Hermione\", \"Harry\", \"Ron\"]\n",
    "for student in students:\n",
    "    print(student)"
   ]
  },
  {
   "cell_type": "code",
   "execution_count": 34,
   "id": "c5399bf9",
   "metadata": {},
   "outputs": [
    {
     "name": "stdout",
     "output_type": "stream",
     "text": [
      "Hermione\n",
      "Harry\n",
      "Ron\n"
     ]
    }
   ],
   "source": [
    "#List\n",
    "students = [\"Hermione\", \"Harry\", \"Ron\"]\n",
    "for i in range(len(students)):\n",
    "    print(students[i])"
   ]
  },
  {
   "cell_type": "code",
   "execution_count": 35,
   "id": "51d7106f",
   "metadata": {},
   "outputs": [
    {
     "name": "stdout",
     "output_type": "stream",
     "text": [
      "1 Hermione\n",
      "2 Harry\n",
      "3 Ron\n"
     ]
    }
   ],
   "source": [
    "#List\n",
    "students = [\"Hermione\", \"Harry\", \"Ron\"]\n",
    "for i in range(len(students)):\n",
    "    print(i + 1, students[i])"
   ]
  },
  {
   "cell_type": "code",
   "execution_count": null,
   "id": "e3785d72",
   "metadata": {},
   "outputs": [],
   "source": [
    "#dict (dictionary)\n",
    "students = [\"Hermione\", \"Harry\", \"Ron\", \"Draco\"]\n",
    "houses = [\"Gryffindor\", \"Gryffindor\", \"Gryffindor\", \"Slytherin\"]\n",
    "for i in range(len(students)):\n",
    "    print(i + 1, students[i])"
   ]
  }
 ],
 "metadata": {
  "kernelspec": {
   "display_name": "Python 3 (ipykernel)",
   "language": "python",
   "name": "python3"
  },
  "language_info": {
   "codemirror_mode": {
    "name": "ipython",
    "version": 3
   },
   "file_extension": ".py",
   "mimetype": "text/x-python",
   "name": "python",
   "nbconvert_exporter": "python",
   "pygments_lexer": "ipython3",
   "version": "3.9.7"
  }
 },
 "nbformat": 4,
 "nbformat_minor": 5
}
